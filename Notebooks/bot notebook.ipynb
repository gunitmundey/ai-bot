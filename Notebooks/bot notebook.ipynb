{
 "cells": [
  {
   "cell_type": "code",
   "execution_count": 1,
   "metadata": {},
   "outputs": [],
   "source": [
    "import yfinance as yf\n",
    "import logging\n",
    "\n",
    "class DataFetcher:\n",
    "    def __init__(self, symbol='BTC-USD'):\n",
    "        self.symbol = symbol\n",
    "\n",
    "    def fetch_historical_data(self, start_date, end_date):\n",
    "        try:\n",
    "            data = yf.download(self.symbol, start=start_date, end=end_date)\n",
    "            logging.info(f\"Fetched historical data for {self.symbol} from {start_date} to {end_date}.\")\n",
    "            return data\n",
    "        except Exception as e:\n",
    "            logging.error(f\"An error occurred while fetching historical data: {e}\")\n",
    "            return None\n",
    "\n",
    "    def fetch_real_time_data(self):\n",
    "        try:\n",
    "            data = yf.Ticker(self.symbol)\n",
    "            real_time_data = data.history(period='1d')\n",
    "            logging.info(f\"Fetched real-time data for {self.symbol}.\")\n",
    "            return real_time_data\n",
    "        except Exception as e:\n",
    "            logging.error(f\"An error occurred while fetching real-time data: {e}\")\n",
    "            return None"
   ]
  },
  {
   "cell_type": "code",
   "execution_count": 11,
   "metadata": {},
   "outputs": [
    {
     "name": "stdout",
     "output_type": "stream",
     "text": [
      "Requirement already satisfied: tk in /home/gsm/Desktop/Bot2.0/trading-bot/.venv/lib/python3.12/site-packages (0.1.0)\n",
      "Note: you may need to restart the kernel to use updated packages.\n"
     ]
    },
    {
     "ename": "ModuleNotFoundError",
     "evalue": "No module named 'tkinter'",
     "output_type": "error",
     "traceback": [
      "\u001b[0;31m---------------------------------------------------------------------------\u001b[0m",
      "\u001b[0;31mModuleNotFoundError\u001b[0m                       Traceback (most recent call last)",
      "Cell \u001b[0;32mIn[11], line 3\u001b[0m\n\u001b[1;32m      1\u001b[0m get_ipython()\u001b[38;5;241m.\u001b[39mrun_line_magic(\u001b[38;5;124m'\u001b[39m\u001b[38;5;124mpip\u001b[39m\u001b[38;5;124m'\u001b[39m, \u001b[38;5;124m'\u001b[39m\u001b[38;5;124minstall tk\u001b[39m\u001b[38;5;124m'\u001b[39m)\n\u001b[0;32m----> 3\u001b[0m \u001b[38;5;28;01mfrom\u001b[39;00m\u001b[38;5;250m \u001b[39m\u001b[38;5;21;01mtkinter\u001b[39;00m\u001b[38;5;250m \u001b[39m\u001b[38;5;28;01mimport\u001b[39;00m Tk, Label, Entry, Button, StringVar, messagebox\n\u001b[1;32m      4\u001b[0m \u001b[38;5;28;01mimport\u001b[39;00m\u001b[38;5;250m \u001b[39m\u001b[38;5;21;01mlogging\u001b[39;00m\n\u001b[1;32m      6\u001b[0m \u001b[38;5;28;01mclass\u001b[39;00m\u001b[38;5;250m \u001b[39m\u001b[38;5;21;01mTradingBotUI\u001b[39;00m:\n",
      "\u001b[0;31mModuleNotFoundError\u001b[0m: No module named 'tkinter'"
     ]
    }
   ],
   "source": [
    "%pip install tk\n",
    "\n",
    "from tkinter import Tk, Label, Entry, Button, StringVar, messagebox\n",
    "import logging\n",
    "\n",
    "class TradingBotUI:\n",
    "    def __init__(self, master):\n",
    "        self.master = master\n",
    "        master.title(\"Trading Bot Configuration\")\n",
    "\n",
    "        self.api_key_var = StringVar()\n",
    "        self.api_secret_var = StringVar()\n",
    "\n",
    "        self.label_api_key = Label(master, text=\"API Key:\")\n",
    "        self.label_api_key.pack()\n",
    "\n",
    "        self.entry_api_key = Entry(master, textvariable=self.api_key_var)\n",
    "        self.entry_api_key.pack()\n",
    "\n",
    "        self.label_api_secret = Label(master, text=\"API Secret:\")\n",
    "        self.label_api_secret.pack()\n",
    "\n",
    "        self.entry_api_secret = Entry(master, textvariable=self.api_secret_var, show='*')\n",
    "        self.entry_api_secret.pack()\n",
    "\n",
    "        self.start_button = Button(master, text=\"Start Trading\", command=self.start_trading)\n",
    "        self.start_button.pack()\n",
    "\n",
    "        logging.basicConfig(filename='trading_bot.log', level=logging.INFO)\n",
    "\n",
    "    def start_trading(self):\n",
    "        api_key = self.api_key_var.get()\n",
    "        api_secret = self.api_secret_var.get()\n",
    "\n",
    "        if not api_key or not api_secret:\n",
    "            messagebox.showerror(\"Input Error\", \"Please enter both API Key and API Secret.\")\n",
    "            return\n",
    "\n",
    "        try:\n",
    "            # Here you would typically call the bot's trading logic with the provided keys\n",
    "            messagebox.showinfo(\"Success\", \"Trading bot started with provided API keys.\")\n",
    "            logging.info(\"Trading bot started with provided API keys.\")\n",
    "        except Exception as e:\n",
    "            messagebox.showerror(\"Error\", f\"An error occurred: {e}\")\n",
    "            logging.error(f\"An error occurred: {e}\")\n",
    "\n",
    "if __name__ == \"__main__\":\n",
    "    root = Tk()\n",
    "    trading_bot_ui = TradingBotUI(root)\n",
    "    root.mainloop()"
   ]
  },
  {
   "cell_type": "code",
   "execution_count": 12,
   "metadata": {},
   "outputs": [
    {
     "name": "stderr",
     "output_type": "stream",
     "text": [
      "2025-01-20 20:27:21.381110: I external/local_xla/xla/tsl/cuda/cudart_stub.cc:32] Could not find cuda drivers on your machine, GPU will not be used.\n",
      "2025-01-20 20:27:21.383551: I external/local_xla/xla/tsl/cuda/cudart_stub.cc:32] Could not find cuda drivers on your machine, GPU will not be used.\n",
      "2025-01-20 20:27:21.388556: E external/local_xla/xla/stream_executor/cuda/cuda_fft.cc:477] Unable to register cuFFT factory: Attempting to register factory for plugin cuFFT when one has already been registered\n",
      "WARNING: All log messages before absl::InitializeLog() is called are written to STDERR\n",
      "E0000 00:00:1737422841.399509   11467 cuda_dnn.cc:8310] Unable to register cuDNN factory: Attempting to register factory for plugin cuDNN when one has already been registered\n",
      "E0000 00:00:1737422841.403958   11467 cuda_blas.cc:1418] Unable to register cuBLAS factory: Attempting to register factory for plugin cuBLAS when one has already been registered\n",
      "2025-01-20 20:27:21.416711: I tensorflow/core/platform/cpu_feature_guard.cc:210] This TensorFlow binary is optimized to use available CPU instructions in performance-critical operations.\n",
      "To enable the following instructions: AVX2 FMA, in other operations, rebuild TensorFlow with the appropriate compiler flags.\n"
     ]
    },
    {
     "name": "stdout",
     "output_type": "stream",
     "text": [
      "Warning - Certain functionality \n",
      "             requires requests_html, which is not installed.\n",
      "             \n",
      "             Install using: \n",
      "             pip install requests_html\n",
      "             \n",
      "             After installation, you may have to restart your Python session.\n"
     ]
    },
    {
     "ename": "AttributeError",
     "evalue": "'TradingBot' object has no attribute 'input_shape'",
     "output_type": "error",
     "traceback": [
      "\u001b[0;31m---------------------------------------------------------------------------\u001b[0m",
      "\u001b[0;31mAttributeError\u001b[0m                            Traceback (most recent call last)",
      "Cell \u001b[0;32mIn[12], line 39\u001b[0m\n\u001b[1;32m     37\u001b[0m api_key \u001b[38;5;241m=\u001b[39m os\u001b[38;5;241m.\u001b[39mgetenv(\u001b[38;5;124m\"\u001b[39m\u001b[38;5;124mAPI_KEY\u001b[39m\u001b[38;5;124m\"\u001b[39m)\n\u001b[1;32m     38\u001b[0m api_secret \u001b[38;5;241m=\u001b[39m os\u001b[38;5;241m.\u001b[39mgetenv(\u001b[38;5;124m\"\u001b[39m\u001b[38;5;124mAPI_SECRET\u001b[39m\u001b[38;5;124m\"\u001b[39m)\n\u001b[0;32m---> 39\u001b[0m bot \u001b[38;5;241m=\u001b[39m \u001b[43mTradingBot\u001b[49m\u001b[43m(\u001b[49m\u001b[43mapi_key\u001b[49m\u001b[43m,\u001b[49m\u001b[43m \u001b[49m\u001b[43mapi_secret\u001b[49m\u001b[43m)\u001b[49m\n\u001b[1;32m     40\u001b[0m bot\u001b[38;5;241m.\u001b[39mfetch_data()\n",
      "Cell \u001b[0;32mIn[12], line 11\u001b[0m, in \u001b[0;36mTradingBot.__init__\u001b[0;34m(self, api_key, api_secret)\u001b[0m\n\u001b[1;32m      9\u001b[0m \u001b[38;5;28mself\u001b[39m\u001b[38;5;241m.\u001b[39mapi_key \u001b[38;5;241m=\u001b[39m api_key\n\u001b[1;32m     10\u001b[0m \u001b[38;5;28mself\u001b[39m\u001b[38;5;241m.\u001b[39mapi_secret \u001b[38;5;241m=\u001b[39m api_secret\n\u001b[0;32m---> 11\u001b[0m \u001b[38;5;28mself\u001b[39m\u001b[38;5;241m.\u001b[39mmodel \u001b[38;5;241m=\u001b[39m \u001b[38;5;28;43mself\u001b[39;49m\u001b[38;5;241;43m.\u001b[39;49m\u001b[43mbuild_model\u001b[49m\u001b[43m(\u001b[49m\u001b[43m)\u001b[49m\n\u001b[1;32m     12\u001b[0m \u001b[38;5;28mself\u001b[39m\u001b[38;5;241m.\u001b[39mdata \u001b[38;5;241m=\u001b[39m \u001b[38;5;28;01mNone\u001b[39;00m\n",
      "Cell \u001b[0;32mIn[12], line 16\u001b[0m, in \u001b[0;36mTradingBot.build_model\u001b[0;34m(self)\u001b[0m\n\u001b[1;32m     14\u001b[0m \u001b[38;5;28;01mdef\u001b[39;00m\u001b[38;5;250m \u001b[39m\u001b[38;5;21mbuild_model\u001b[39m(\u001b[38;5;28mself\u001b[39m):\n\u001b[1;32m     15\u001b[0m     model \u001b[38;5;241m=\u001b[39m tf\u001b[38;5;241m.\u001b[39mkeras\u001b[38;5;241m.\u001b[39mSequential([\n\u001b[0;32m---> 16\u001b[0m         tf\u001b[38;5;241m.\u001b[39mkeras\u001b[38;5;241m.\u001b[39mlayers\u001b[38;5;241m.\u001b[39mDense(\u001b[38;5;241m64\u001b[39m, activation\u001b[38;5;241m=\u001b[39m\u001b[38;5;124m'\u001b[39m\u001b[38;5;124mrelu\u001b[39m\u001b[38;5;124m'\u001b[39m, input_shape\u001b[38;5;241m=\u001b[39m(\u001b[38;5;28;43mself\u001b[39;49m\u001b[38;5;241;43m.\u001b[39;49m\u001b[43minput_shape\u001b[49m,)),\n\u001b[1;32m     17\u001b[0m         tf\u001b[38;5;241m.\u001b[39mkeras\u001b[38;5;241m.\u001b[39mlayers\u001b[38;5;241m.\u001b[39mDense(\u001b[38;5;241m64\u001b[39m, activation\u001b[38;5;241m=\u001b[39m\u001b[38;5;124m'\u001b[39m\u001b[38;5;124mrelu\u001b[39m\u001b[38;5;124m'\u001b[39m),\n\u001b[1;32m     18\u001b[0m         tf\u001b[38;5;241m.\u001b[39mkeras\u001b[38;5;241m.\u001b[39mlayers\u001b[38;5;241m.\u001b[39mDense(\u001b[38;5;241m3\u001b[39m, activation\u001b[38;5;241m=\u001b[39m\u001b[38;5;124m'\u001b[39m\u001b[38;5;124msoftmax\u001b[39m\u001b[38;5;124m'\u001b[39m)  \u001b[38;5;66;03m# Buy, Hold, Sell\u001b[39;00m\n\u001b[1;32m     19\u001b[0m     ])\n\u001b[1;32m     20\u001b[0m     model\u001b[38;5;241m.\u001b[39mcompile(optimizer\u001b[38;5;241m=\u001b[39m\u001b[38;5;124m'\u001b[39m\u001b[38;5;124madam\u001b[39m\u001b[38;5;124m'\u001b[39m, loss\u001b[38;5;241m=\u001b[39m\u001b[38;5;124m'\u001b[39m\u001b[38;5;124mcategorical_crossentropy\u001b[39m\u001b[38;5;124m'\u001b[39m, metrics\u001b[38;5;241m=\u001b[39m[\u001b[38;5;124m'\u001b[39m\u001b[38;5;124maccuracy\u001b[39m\u001b[38;5;124m'\u001b[39m])\n\u001b[1;32m     21\u001b[0m     \u001b[38;5;28;01mreturn\u001b[39;00m model\n",
      "\u001b[0;31mAttributeError\u001b[0m: 'TradingBot' object has no attribute 'input_shape'"
     ]
    }
   ],
   "source": [
    "import os\n",
    "import numpy as np\n",
    "import pandas as pd\n",
    "import tensorflow as tf\n",
    "from yahoo_fin import stock_info as si\n",
    "\n",
    "class TradingBot:\n",
    "    def __init__(self, api_key, api_secret):\n",
    "        self.api_key = api_key\n",
    "        self.api_secret = api_secret\n",
    "        self.model = self.build_model()\n",
    "        self.data = None\n",
    "\n",
    "    def build_model(self):\n",
    "        model = tf.keras.Sequential([\n",
    "            tf.keras.layers.Dense(64, activation='relu', input_shape=(self.input_shape,)),\n",
    "            tf.keras.layers.Dense(64, activation='relu'),\n",
    "            tf.keras.layers.Dense(3, activation='softmax')  # Buy, Hold, Sell\n",
    "        ])\n",
    "        model.compile(optimizer='adam', loss='categorical_crossentropy', metrics=['accuracy'])\n",
    "        return model\n",
    "\n",
    "    def fetch_data(self, ticker='BTC-USD'):\n",
    "        self.data = si.get_data(ticker)\n",
    "        return self.data\n",
    "\n",
    "    def train_model(self, training_data):\n",
    "        # Implement training logic here\n",
    "        pass\n",
    "\n",
    "    def trade(self):\n",
    "        # Implement trading logic here\n",
    "        pass\n",
    "\n",
    "if __name__ == \"__main__\":\n",
    "    # Example usage\n",
    "    api_key = os.getenv(\"API_KEY\")\n",
    "    api_secret = os.getenv(\"API_SECRET\")\n",
    "    bot = TradingBot(api_key, api_secret)\n",
    "    bot.fetch_data()"
   ]
  },
  {
   "cell_type": "code",
   "execution_count": null,
   "metadata": {},
   "outputs": [],
   "source": [
    "from tensorflow import keras\n",
    "from tensorflow.keras import layers\n",
    "import logging\n",
    "\n",
    "def create_model(input_shape):\n",
    "    model = keras.Sequential()\n",
    "    model.add(layers.Dense(64, activation='relu', input_shape=input_shape))\n",
    "    model.add(layers.Dense(64, activation='relu'))\n",
    "    model.add(layers.Dense(1, activation='linear'))  # Output layer for regression\n",
    "\n",
    "    model.compile(optimizer='adam', loss='mean_squared_error')\n",
    "    return model\n",
    "\n",
    "def train_model(model, x_train, y_train, epochs=50, batch_size=32):\n",
    "    try:\n",
    "        model.fit(x_train, y_train, epochs=epochs, batch_size=batch_size)\n",
    "        logging.info(\"Model training completed successfully.\")\n",
    "    except Exception as e:\n",
    "        logging.error(f\"An error occurred during model training: {e}\")\n",
    "\n",
    "def evaluate_model(model, x_test, y_test):\n",
    "    try:\n",
    "        evaluation = model.evaluate(x_test, y_test)\n",
    "        logging.info(\"Model evaluation completed successfully.\")\n",
    "        return evaluation\n",
    "    except Exception as e:\n",
    "        logging.error(f\"An error occurred during model evaluation: {e}\")\n",
    "        return None"
   ]
  },
  {
   "cell_type": "markdown",
   "metadata": {},
   "source": [
    "https://www.reddit.com/r/StableDiffusion/comments/10zfnlj/novice_guide_how_to_fully_setup_linux_to_run/"
   ]
  },
  {
   "cell_type": "markdown",
   "metadata": {},
   "source": [
    "https://www.reddit.com/r/MachineLearning/comments/85iwyj/d_tensorflow_with_amd_gpu/?rdt=52920"
   ]
  }
 ],
 "metadata": {
  "kernelspec": {
   "display_name": ".venv",
   "language": "python",
   "name": "python3"
  },
  "language_info": {
   "codemirror_mode": {
    "name": "ipython",
    "version": 3
   },
   "file_extension": ".py",
   "mimetype": "text/x-python",
   "name": "python",
   "nbconvert_exporter": "python",
   "pygments_lexer": "ipython3",
   "version": "3.12.3"
  }
 },
 "nbformat": 4,
 "nbformat_minor": 2
}
